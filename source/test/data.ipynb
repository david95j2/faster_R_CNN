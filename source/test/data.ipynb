{
 "cells": [
  {
   "cell_type": "code",
   "execution_count": null,
   "metadata": {},
   "outputs": [],
   "source": [
    "data_path = os.path.expanduser(\"~/Desktop/joo/data/nest/preprocessing/\")\n",
    "type_path = [\"test/\",\"train/\",\"val/\"]\n",
    "type_path_num = 0\n",
    "type = [\"Annotations/\",\"JPEGImages/\",\"ImageSets/\"]"
   ]
  },
  {
   "cell_type": "code",
   "execution_count": null,
   "metadata": {},
   "outputs": [],
   "source": [
    "print(data_path+type_path[type_path_num]+type[0])\n",
    "print(data_path+type_path[type_path_num]+type[1])\n",
    "ann_root, ann_dir, ann_files = next(\n",
    "    os.walk(os.path.join(data_path,type_path[type_path_num],type[0])))\n",
    "img_root, amg_dir, img_files = next(\n",
    "    os.walk(os.path.join(data_path,type_path[type_path_num],type[1])))\n",
    "\n",
    "ann_files.sort()\n",
    "img_files.sort()"
   ]
  },
  {
   "cell_type": "code",
   "execution_count": null,
   "metadata": {},
   "outputs": [],
   "source": [
    "## 파일 만들기\n",
    "\n",
    "temp = 0\n",
    "f = len(img_files)\n",
    "train_list = [\"train\",\"train_train\",\"val\",\"train_val\",\"trainval\",\"train_trainval\",\"test\",\"train_test\"]\n",
    "train_list_num = 5\n",
    "\n",
    "print(f\"현재 : {type_path[type_path_num]}   작성할 파일 명 : {train_list[train_list_num]}\")\n",
    "\n",
    "print(f\"System : {f}개의 파일이 있습니다.\")\n",
    "\n",
    "# if not os.path.isfile(data_path+type_path[1]+type[2]+\"Main/\"+train_list[train_list_num]+\".txt\"):\n",
    "#     with open(data_path+type_path[1]+type[2]+\"Main/\"+train_list[train_list_num]+\".txt\",\"w\") as f :\n",
    "#         f.write(\"\")\n",
    "\n",
    "for xml_file in ann_files:\n",
    "    # if temp == 1: break\n",
    "    # # XML파일와 이미지파일은 이름이 같으므로, 확장자만 맞춰서 찾습니다.\n",
    "    img_name = img_files[img_files.index(\".\".join([xml_file.split(\".\")[0], \"jpg\"]))]\n",
    "    img_file = os.path.join(img_root, img_name)\n",
    "    \n",
    "    num = img_name.index('.')\n",
    "    new_file = img_name[:num]\n",
    "    \n",
    "    # with open(data_path+type_path[1]+type[2]+\"Main/\"+train_list[train_list_num]+\".txt\",\"a\") as f_2 :\n",
    "    #     if train_list_num %2 : f_2.write(new_file+\" -1\\n\")\n",
    "    #     else : f_2.write(new_file+\"\\n\")\n",
    "\n",
    "    temp += 1\n",
    "\n",
    "print(f\"System : 파일 작성을 완료 하였습니다. [작성된 수 : {temp}개]\")"
   ]
  }
 ],
 "metadata": {
  "language_info": {
   "name": "python"
  },
  "orig_nbformat": 4
 },
 "nbformat": 4,
 "nbformat_minor": 2
}
