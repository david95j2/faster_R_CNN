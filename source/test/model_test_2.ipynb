{
 "cells": [
  {
   "cell_type": "code",
   "execution_count": 14,
   "metadata": {},
   "outputs": [],
   "source": [
    "import torch\n",
    "import torchvision\n",
    "import torch.nn as nn\n",
    "import torch.nn.functional as F\n",
    "from torchvision import models\n",
    "from torchvision import transforms\n",
    "from torchvision import utils\n",
    "import matplotlib.pyplot as plt\n",
    "import numpy as np\n",
    "import cv2\n",
    "import os\n",
    "from PIL import Image\n",
    "import xml.etree.ElementTree as ET\n",
    "from typing import Any, Callable, Dict, Optional, Tuple, List\n",
    "import collections\n",
    "from torch.utils.data import Dataset, DataLoader\n"
   ]
  },
  {
   "cell_type": "code",
   "execution_count": 3,
   "metadata": {},
   "outputs": [
    {
     "name": "stdout",
     "output_type": "stream",
     "text": [
      "There are 1 GPU(s) available.\n",
      "We will use the GPU: GeForce RTX 2080 Ti\n"
     ]
    }
   ],
   "source": [
    "if torch.cuda.is_available():\n",
    "    device = torch.device(\"cuda\")\n",
    "    print('There are %d GPU(s) available.' % torch.cuda.device_count())\n",
    "    print('We will use the GPU:', torch.cuda.get_device_name(0))\n",
    "\n",
    "else:\n",
    "    print('No GPU available, using the CPU instead.')\n",
    "    device = torch.device(\"cpu\")"
   ]
  },
  {
   "cell_type": "code",
   "execution_count": 4,
   "metadata": {},
   "outputs": [
    {
     "name": "stdout",
     "output_type": "stream",
     "text": [
      "Sequential(\n",
      "  (0): Conv2d(3, 64, kernel_size=(3, 3), stride=(1, 1), padding=(1, 1))\n",
      "  (1): ReLU(inplace=True)\n",
      "  (2): Conv2d(64, 64, kernel_size=(3, 3), stride=(1, 1), padding=(1, 1))\n",
      "  (3): ReLU(inplace=True)\n",
      "  (4): MaxPool2d(kernel_size=2, stride=2, padding=0, dilation=1, ceil_mode=False)\n",
      "  (5): Conv2d(64, 128, kernel_size=(3, 3), stride=(1, 1), padding=(1, 1))\n",
      "  (6): ReLU(inplace=True)\n",
      "  (7): Conv2d(128, 128, kernel_size=(3, 3), stride=(1, 1), padding=(1, 1))\n",
      "  (8): ReLU(inplace=True)\n",
      "  (9): MaxPool2d(kernel_size=2, stride=2, padding=0, dilation=1, ceil_mode=False)\n",
      "  (10): Conv2d(128, 256, kernel_size=(3, 3), stride=(1, 1), padding=(1, 1))\n",
      "  (11): ReLU(inplace=True)\n",
      "  (12): Conv2d(256, 256, kernel_size=(3, 3), stride=(1, 1), padding=(1, 1))\n",
      "  (13): ReLU(inplace=True)\n",
      "  (14): Conv2d(256, 256, kernel_size=(3, 3), stride=(1, 1), padding=(1, 1))\n",
      "  (15): ReLU(inplace=True)\n",
      "  (16): MaxPool2d(kernel_size=2, stride=2, padding=0, dilation=1, ceil_mode=False)\n",
      "  (17): Conv2d(256, 512, kernel_size=(3, 3), stride=(1, 1), padding=(1, 1))\n",
      "  (18): ReLU(inplace=True)\n",
      "  (19): Conv2d(512, 512, kernel_size=(3, 3), stride=(1, 1), padding=(1, 1))\n",
      "  (20): ReLU(inplace=True)\n",
      "  (21): Conv2d(512, 512, kernel_size=(3, 3), stride=(1, 1), padding=(1, 1))\n",
      "  (22): ReLU(inplace=True)\n",
      "  (23): MaxPool2d(kernel_size=2, stride=2, padding=0, dilation=1, ceil_mode=False)\n",
      "  (24): Conv2d(512, 512, kernel_size=(3, 3), stride=(1, 1), padding=(1, 1))\n",
      "  (25): ReLU(inplace=True)\n",
      "  (26): Conv2d(512, 512, kernel_size=(3, 3), stride=(1, 1), padding=(1, 1))\n",
      "  (27): ReLU(inplace=True)\n",
      "  (28): Conv2d(512, 512, kernel_size=(3, 3), stride=(1, 1), padding=(1, 1))\n",
      "  (29): ReLU(inplace=True)\n",
      ")\n"
     ]
    }
   ],
   "source": [
    "vgg16 = models.vgg16(pretrained=True).features[:-1].to(device)\n",
    "\n",
    "print(vgg16)"
   ]
  },
  {
   "cell_type": "code",
   "execution_count": 5,
   "metadata": {},
   "outputs": [
    {
     "name": "stdout",
     "output_type": "stream",
     "text": [
      "----------------------------------------------------------------\n",
      "        Layer (type)               Output Shape         Param #\n",
      "================================================================\n",
      "            Conv2d-1         [-1, 64, 244, 244]           1,792\n",
      "              ReLU-2         [-1, 64, 244, 244]               0\n",
      "            Conv2d-3         [-1, 64, 244, 244]          36,928\n",
      "              ReLU-4         [-1, 64, 244, 244]               0\n",
      "         MaxPool2d-5         [-1, 64, 122, 122]               0\n",
      "            Conv2d-6        [-1, 128, 122, 122]          73,856\n",
      "              ReLU-7        [-1, 128, 122, 122]               0\n",
      "            Conv2d-8        [-1, 128, 122, 122]         147,584\n",
      "              ReLU-9        [-1, 128, 122, 122]               0\n",
      "        MaxPool2d-10          [-1, 128, 61, 61]               0\n",
      "           Conv2d-11          [-1, 256, 61, 61]         295,168\n",
      "             ReLU-12          [-1, 256, 61, 61]               0\n",
      "           Conv2d-13          [-1, 256, 61, 61]         590,080\n",
      "             ReLU-14          [-1, 256, 61, 61]               0\n",
      "           Conv2d-15          [-1, 256, 61, 61]         590,080\n",
      "             ReLU-16          [-1, 256, 61, 61]               0\n",
      "        MaxPool2d-17          [-1, 256, 30, 30]               0\n",
      "           Conv2d-18          [-1, 512, 30, 30]       1,180,160\n",
      "             ReLU-19          [-1, 512, 30, 30]               0\n",
      "           Conv2d-20          [-1, 512, 30, 30]       2,359,808\n",
      "             ReLU-21          [-1, 512, 30, 30]               0\n",
      "           Conv2d-22          [-1, 512, 30, 30]       2,359,808\n",
      "             ReLU-23          [-1, 512, 30, 30]               0\n",
      "        MaxPool2d-24          [-1, 512, 15, 15]               0\n",
      "           Conv2d-25          [-1, 512, 15, 15]       2,359,808\n",
      "             ReLU-26          [-1, 512, 15, 15]               0\n",
      "           Conv2d-27          [-1, 512, 15, 15]       2,359,808\n",
      "             ReLU-28          [-1, 512, 15, 15]               0\n",
      "           Conv2d-29          [-1, 512, 15, 15]       2,359,808\n",
      "             ReLU-30          [-1, 512, 15, 15]               0\n",
      "================================================================\n",
      "Total params: 14,714,688\n",
      "Trainable params: 14,714,688\n",
      "Non-trainable params: 0\n",
      "----------------------------------------------------------------\n",
      "Input size (MB): 0.68\n",
      "Forward/backward pass size (MB): 257.93\n",
      "Params size (MB): 56.13\n",
      "Estimated Total Size (MB): 314.75\n",
      "----------------------------------------------------------------\n"
     ]
    }
   ],
   "source": [
    "from torchsummary import summary\n",
    "summary(vgg16, input_size=(3,244,244), device=device.type)"
   ]
  },
  {
   "cell_type": "code",
   "execution_count": 6,
   "metadata": {},
   "outputs": [
    {
     "name": "stdout",
     "output_type": "stream",
     "text": [
      "torch.Size([64, 3, 3, 3])\n"
     ]
    },
    {
     "data": {
      "image/png": "[encoded data removed]",
      "text/plain": [
       "<Figure size 720x720 with 1 Axes>"
      ]
     },
     "metadata": {
      "needs_background": "light"
     },
     "output_type": "display_data"
    }
   ],
   "source": [
    "# visualize the filters of the first CNN layer\n",
    "# display sample images\n",
    "def show(img, y=None, color=True):\n",
    "    npimg = img.numpy()\n",
    "    npimg_tr = np.transpose(npimg, (1, 2, 0))\n",
    "    plt.imshow(npimg_tr)\n",
    "\n",
    "    if y is not None:\n",
    "        plt.title('labels: ' + str(y))\n",
    "\n",
    "for w in vgg16.parameters():\n",
    "    w = w.data.cpu()\n",
    "    print(w.shape)\n",
    "    break\n",
    "\n",
    "# normalize weights\n",
    "min_w = torch.min(w)\n",
    "w1 = (-1/(2 * min_w)) * w + 0.5\n",
    "\n",
    "# make grid to display it\n",
    "grid_size = len(w1)\n",
    "x_grid = [w1[i] for i in range(grid_size)]\n",
    "x_grid = utils.make_grid(x_grid, nrow=8, padding=1)\n",
    "\n",
    "plt.figure(figsize=(10, 10))\n",
    "show(x_grid)\n"
   ]
  },
  {
   "cell_type": "code",
   "execution_count": 8,
   "metadata": {},
   "outputs": [],
   "source": [
    "path2data = '../../../../../../data/test/Annotations'"
   ]
  },
  {
   "cell_type": "code",
   "execution_count": 9,
   "metadata": {},
   "outputs": [],
   "source": [
    "classes = [\"wasp nest\"]"
   ]
  },
  {
   "cell_type": "code",
   "execution_count": null,
   "metadata": {},
   "outputs": [],
   "source": [
    "import xml.etree.ElementTree as Et\n",
    "\n",
    "def xml_parser(xml_path):\n",
    "    xml_path = xml_path\n",
    "    xml = open(xml_path, \"r\")\n",
    "    tree = Et.parse(xml)\n",
    "    root = tree.getroot()\n",
    "    size = root.find(\"size\")\n",
    "    file_name = root.find(\"filename\").text\n",
    "    object_name = []\n",
    "    bbox = []\n",
    "    objects = root.findall(\"object\")\n",
    "    for _object in objects:\n",
    "      name = _object.find(\"name\").text\n",
    "      object_name.append(name)\n",
    "      bndbox = _object.find(\"bndbox\")\n",
    "      one_bbox = []\n",
    "      xmin = bndbox.find(\"xmin\").text\n",
    "      one_bbox.append(int(float(xmin)))\n",
    "      ymin = bndbox.find(\"ymin\").text\n",
    "      one_bbox.append(int(float(ymin)))\n",
    "      xmax = bndbox.find(\"xmax\").text\n",
    "      one_bbox.append(int(float(xmax)))\n",
    "      ymax = bndbox.find(\"ymax\").text\n",
    "      one_bbox.append(int(float(ymax)))\n",
    "      bbox.append(one_bbox)\n",
    "    return file_name, object_name, bbox\n"
   ]
  },
  {
   "cell_type": "code",
   "execution_count": null,
   "metadata": {},
   "outputs": [],
   "source": [
    "def makeBox(voc_im,bbox,objects):\n",
    "    image = voc_im.copy()\n",
    "    for i in range(len(objects)):\n",
    "        cv2.rectangle(image,(int(bbox[i][0]),int(bbox[i][1])),(int(bbox[i][2]),int(bbox[i][3])),color = (0,255,0),thickness = 1)\n",
    "        cv2.putText(image, objects[i], (int(bbox[i][0]), int(bbox[i][1])-10), cv2.FONT_HERSHEY_SIMPLEX, 0.8, (0,255,0), 2) # 크기, 색, 굵기\n",
    "    return image"
   ]
  },
  {
   "cell_type": "code",
   "execution_count": null,
   "metadata": {},
   "outputs": [],
   "source": [
    "xml_list = os.listdir(\"../../../../../../data/test/Annotations\")\n",
    "xml_list.sort()\n",
    "\n",
    "label_set = set()\n",
    "\n",
    "for i in range(len(xml_list)):\n",
    "  xml_path = \"../../../../../../data/test/Annotations/\"+str(xml_list[i])\n",
    "  file_name, object_name, bbox = xml_parser(xml_path)\n",
    "  for name in object_name:\n",
    "    label_set.add(name)\n",
    "\n",
    "label_set = sorted(list(label_set))\n",
    "\n",
    "label_dic = {}\n",
    "for i, key in enumerate(label_set):\n",
    "  label_dic[key] = (i+1)\n",
    "print(label_dic)\n"
   ]
  },
  {
   "cell_type": "code",
   "execution_count": null,
   "metadata": {},
   "outputs": [],
   "source": [
    "import imgaug as ia\n",
    "from imgaug import augmenters as iaa\n",
    "from torch.utils.data import Dataset, DataLoader\n",
    "\n",
    "class Pascal_Voc(Dataset):\n",
    "    \n",
    "  def __init__(self,xml_list,len_data):\n",
    "\n",
    "    self.xml_list = xml_list\n",
    "    self.len_data = len_data\n",
    "    self.to_tensor = transforms.ToTensor()\n",
    "    self.flip = iaa.Fliplr(0.5)\n",
    "    self.resize = iaa.Resize({\"shorter-side\": 600, \"longer-side\": \"keep-aspect-ratio\"})\n",
    "\n",
    "  def __len__(self):\n",
    "    return self.len_data\n",
    "\n",
    "  def __getitem__(self, idx):\n",
    "\n",
    "    xml_path = \"../../../../../../data/test/Annotations/\"+str(xml_list[idx])\n",
    "\n",
    "    file_name, object_name, bbox = xml_parser(xml_path)\n",
    "    image_path = \"../../../../../../data/test/JPEGImages/\"+str(file_name)\n",
    "    image = Image.open(image_path).convert(\"RGB\")\n",
    "    image = np.array(image)\n",
    "\n",
    "    image, bbox = self.flip(image = image, bounding_boxes = np.array([bbox]))\n",
    "    image, bbox = self.resize(image = image,bounding_boxes = bbox)\n",
    "    bbox = bbox.squeeze(0).tolist()\n",
    "    image = self.to_tensor(image)\n",
    "\n",
    "    targets = []\n",
    "    d = {}\n",
    "    d['boxes'] = torch.tensor(bbox,device=device)\n",
    "    d['labels'] = torch.tensor([label_dic[x] for x in object_name],dtype=torch.int64,device = device)\n",
    "    targets.append(d)\n",
    "\n",
    "    return image, targets\n"
   ]
  },
  {
   "cell_type": "code",
   "execution_count": 15,
   "metadata": {},
   "outputs": [],
   "source": [
    "# PyTorch에서 제공하는 VOC dataset을 상속받아, custom dataset을 생성합니다.\n",
    "class myVOCDetection(Dataset):\n",
    "    def __getitem__(self, index):\n",
    "        img = np.array(Image.open(self.images[index]).convert('RGB'))\n",
    "        target = self.parse_voc_xml(\n",
    "            ET.parse(self.annotations[index]).getroot())  # xml파일 분석하여 dict으로 받아오기\n",
    "\n",
    "        targets = []  # 바운딩 박스 좌표\n",
    "        labels = []  # 바운딩 박스 클래스\n",
    "\n",
    "        # 바운딩 박스 정보 받아오기\n",
    "        for t in target['annotation']['object']:\n",
    "            label = np.zeros(5)\n",
    "            label[:] = t['bndbox']['xmin'], t['bndbox']['ymin'], t['bndbox']['xmax'], t['bndbox']['ymax'], classes.index(\n",
    "                t['name'])\n",
    "\n",
    "            targets.append(list(label[:4]))  # 바운딩 박스 좌표\n",
    "            labels.append(label[4])         # 바운딩 박스 클래스\n",
    "\n",
    "        if self.transforms:\n",
    "            augmentations = self.transforms(image=img, bboxes=targets)\n",
    "            img = augmentations['image']\n",
    "            targets = augmentations['bboxes']\n",
    "\n",
    "        return img, targets, labels\n",
    "\n",
    "    # xml 파일을 dictionary로 반환\n",
    "    def parse_voc_xml(self, node: ET.Element) -> Dict[str, Any]:\n",
    "        voc_dict: Dict[str, Any] = {}\n",
    "        children = list(node)\n",
    "        if children:\n",
    "            def_dic: Dict[str, Any] = collections.defaultdict(list)\n",
    "            for dc in map(self.parse_voc_xml, children):\n",
    "                for ind, v in dc.items():\n",
    "                    def_dic[ind].append(v)\n",
    "            if node.tag == \"annotation\":\n",
    "                def_dic[\"object\"] = [def_dic[\"object\"]]\n",
    "            voc_dict = {node.tag: {ind: v[0] if len(\n",
    "                v) == 1 else v for ind, v in def_dic.items()}}\n",
    "        if node.text:\n",
    "            text = node.text.strip()\n",
    "            if not children:\n",
    "                voc_dict[node.tag] = text\n",
    "        return voc_dict\n"
   ]
  },
  {
   "cell_type": "code",
   "execution_count": null,
   "metadata": {},
   "outputs": [],
   "source": [
    "train_ds = torchvision.datasets.ImageFolder(root=\"baby_data/train\", transform=transforms.ToTensor())\n"
   ]
  },
  {
   "cell_type": "code",
   "execution_count": null,
   "metadata": {},
   "outputs": [],
   "source": [
    "# 샘플 이미지 확인\n",
    "img, target, label = train_ds[2]\n",
    "colors = np.random.randint(0, 255, size=(80, 3), dtype='uint8')  # 바운딩 박스 색상\n",
    "\n",
    "# 시각화 함수\n",
    "\n",
    "\n",
    "def show(img, targets, labels, classes=classes):\n",
    "    img = to_pil_image(img)\n",
    "    draw = ImageDraw.Draw(img)\n",
    "    targets = np.array(targets)\n",
    "    W, H = img.size\n",
    "\n",
    "    for tg, label in zip(targets, labels):\n",
    "        id_ = int(label)  # class\n",
    "        bbox = tg[:4]    # [x1, y1, x2, y2]\n",
    "\n",
    "        color = [int(c) for c in colors[id_]]\n",
    "        name = classes[id_]\n",
    "\n",
    "        draw.rectangle(((bbox[0], bbox[1]), (bbox[2], bbox[3])),\n",
    "                       outline=tuple(color), width=3)\n",
    "        draw.text((bbox[0], bbox[1]), name, fill=(255, 255, 255, 0))\n",
    "    plt.imshow(np.array(img))\n",
    "\n",
    "\n",
    "plt.figure(figsize=(10, 10))\n",
    "show(img, target, label)\n"
   ]
  },
  {
   "cell_type": "code",
   "execution_count": null,
   "metadata": {},
   "outputs": [],
   "source": []
  }
 ],
 "metadata": {
  "interpreter": {
   "hash": "dfbd672e28bbed90d5d5d40f9aaa2ef1070e421b4c18d3a50b2720b9a48f0aa6"
  },
  "kernelspec": {
   "display_name": "Python 3.9.7 ('base')",
   "language": "python",
   "name": "python3"
  },
  "language_info": {
   "codemirror_mode": {
    "name": "ipython",
    "version": 3
   },
   "file_extension": ".py",
   "mimetype": "text/x-python",
   "name": "python",
   "nbconvert_exporter": "python",
   "pygments_lexer": "ipython3",
   "version": "3.9.7"
  },
  "orig_nbformat": 4
 },
 "nbformat": 4,
 "nbformat_minor": 2
}
