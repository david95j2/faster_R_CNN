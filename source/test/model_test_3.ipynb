{
 "cells": [
  {
   "cell_type": "code",
   "execution_count": null,
   "metadata": {},
   "outputs": [],
   "source": [
    "import torch\n",
    "import torchvision\n",
    "import torch.nn as nn\n",
    "import torch.nn.functional as F\n",
    "from torchvision import models\n",
    "from torchvision import transforms\n",
    "import torchvision.transforms.functional as FT\n",
    "from torchvision import utils\n",
    "import matplotlib.pyplot as plt\n",
    "import numpy as np\n",
    "import cv2\n",
    "import os\n",
    "from PIL import Image\n",
    "from torchsummary import summary\n",
    "import xml.etree.ElementTree as ET\n",
    "from typing import Any, Callable, Dict, Optional, Tuple, List\n",
    "import collections\n",
    "from torch.utils.data import Dataset, DataLoader\n"
   ]
  },
  {
   "cell_type": "code",
   "execution_count": null,
   "metadata": {},
   "outputs": [],
   "source": [
    "if torch.cuda.is_available():\n",
    "    device = torch.device(\"cuda\")\n",
    "    print('There are %d GPU(s) available.' % torch.cuda.device_count())\n",
    "    print('We will use the GPU:', torch.cuda.get_device_name(0))\n",
    "\n",
    "else:\n",
    "    print('No GPU available, using the CPU instead.')\n",
    "    device = torch.device(\"cpu\")"
   ]
  },
  {
   "cell_type": "code",
   "execution_count": null,
   "metadata": {},
   "outputs": [],
   "source": [
    "# load model from torchvision servers\n",
    "model = torchvision.models.detection.fasterrcnn_resnet50_fpn(pretrained=True)\n",
    "\n",
    "# set GPU or CPU proccess\n",
    "model.to(device)"
   ]
  },
  {
   "cell_type": "code",
   "execution_count": null,
   "metadata": {},
   "outputs": [],
   "source": [
    "print(len(os.listdir(\"../../../../../../data/test/Annotations\")))\n",
    "print(len(os.listdir(\"../../../../../../data/test/JPEGImages\")))\n",
    "\n",
    "\n",
    "path = \"../../../../../../data/train/JPEGImages/WN4_142.jpg\"\n"
   ]
  },
  {
   "cell_type": "code",
   "execution_count": null,
   "metadata": {},
   "outputs": [],
   "source": [
    "import cv2\n",
    "\n",
    "img = cv2.imread(path)\n",
    "# img = cv2.resize(img,dsize=(500,500),fx=0,fy=0,interpolation=cv2.INTER_LINEAR)\n",
    "\n",
    "cv2.imshow(\"test\",img)\n",
    "cv2.waitKey(0)\n",
    "cv2.destroyAllWindows()"
   ]
  },
  {
   "cell_type": "code",
   "execution_count": null,
   "metadata": {},
   "outputs": [],
   "source": [
    "imageRectangle = img.copy()\n",
    "# cv2.rectangle(imageRectangle,\n",
    "#               (1875, 2168),\n",
    "#               (1344, 1665),\n",
    "#               (255, 0, 0),\n",
    "#               thickness=2,\n",
    "#               lineType=cv2.LINE_AA)\n",
    "cv2.rectangle(imageRectangle, (168, 310), (328, 155), (255, 0, 0),thickness=5)\n",
    "# cv2.rectangle(img,)\n",
    "cv2.imshow(\"image\", imageRectangle)\n",
    "cv2.waitKey(0)\n",
    "cv2.destroyAllWindows()\n",
    "#좌측상단 꼭지점, 우측 하단 꼭지점 , 색, 두께, 선 표현법\n"
   ]
  },
  {
   "cell_type": "code",
   "execution_count": null,
   "metadata": {},
   "outputs": [],
   "source": [
    "import torch \n",
    "from torch.utils.data import Dataset, DataLoader \n",
    "\n",
    "class SimpleDataset(Dataset): \n",
    "    def __init__(self, t): \n",
    "        self.t = t \n",
    "    def __len__(self): \n",
    "        return self.t \n",
    "    def __getitem__(self, idx): \n",
    "        return torch.LongTensor([idx]) \n",
    "\n",
    "if __name__ == \"__main__\": \n",
    "    dataset = SimpleDataset(t=5) \n",
    "    print(len(dataset)) \n",
    "    it = iter(dataset) \n",
    "    \n",
    "    for i in range(10): \n",
    "        print(i, next(it))"
   ]
  }
 ],
 "metadata": {
  "interpreter": {
   "hash": "dfbd672e28bbed90d5d5d40f9aaa2ef1070e421b4c18d3a50b2720b9a48f0aa6"
  },
  "kernelspec": {
   "display_name": "Python 3.9.7 ('base')",
   "language": "python",
   "name": "python3"
  },
  "language_info": {
   "codemirror_mode": {
    "name": "ipython",
    "version": 3
   },
   "file_extension": ".py",
   "mimetype": "text/x-python",
   "name": "python",
   "nbconvert_exporter": "python",
   "pygments_lexer": "ipython3",
   "version": "3.9.7"
  },
  "orig_nbformat": 4
 },
 "nbformat": 4,
 "nbformat_minor": 2
}
